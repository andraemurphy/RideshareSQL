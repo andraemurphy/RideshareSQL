{
 "cells": [
  {
   "cell_type": "markdown",
   "metadata": {},
   "source": [
    "<h2>Project Description<h2>"
   ]
  },
  {
   "cell_type": "markdown",
   "metadata": {},
   "source": [
    "You're working as an analyst for Zuber, a new ride-sharing company that's launching in Chicago. Your task is to find patterns in the available information. You want to understand passenger preferences and the impact of external factors on rides.\n",
    "\n",
    "Working with a database, you'll analyze data from competitors and test a hypothesis about the impact of weather on ride frequency."
   ]
  },
  {
   "cell_type": "markdown",
   "metadata": {},
   "source": [
    "<b>Step 4. Exploratory Data Analysis<b>"
   ]
  },
  {
   "cell_type": "code",
   "execution_count": 1,
   "metadata": {},
   "outputs": [],
   "source": [
    "# Import python libraries and packages relevant to project\n",
    "import pandas as pd\n",
    "import plotly.express as px\n",
    "import numpy as np\n",
    "import matplotlib.pyplot as plt\n",
    "import seaborn as sns\n",
    "from scipy import stats as st \n",
    "from scipy.stats import levene\n",
    "from scipy.stats import f as f_test"
   ]
  },
  {
   "cell_type": "code",
   "execution_count": 2,
   "metadata": {},
   "outputs": [],
   "source": [
    "# Load the datasets\n",
    "df_1 = pd.read_csv('/datasets/project_sql_result_01.csv')\n",
    "df_2 = pd.read_csv('/datasets/project_sql_result_04.csv')"
   ]
  },
  {
   "cell_type": "code",
   "execution_count": 3,
   "metadata": {},
   "outputs": [
    {
     "name": "stdout",
     "output_type": "stream",
     "text": [
      "<class 'pandas.core.frame.DataFrame'>\n",
      "RangeIndex: 64 entries, 0 to 63\n",
      "Data columns (total 2 columns):\n",
      " #   Column        Non-Null Count  Dtype \n",
      "---  ------        --------------  ----- \n",
      " 0   company_name  64 non-null     object\n",
      " 1   trips_amount  64 non-null     int64 \n",
      "dtypes: int64(1), object(1)\n",
      "memory usage: 1.1+ KB\n"
     ]
    }
   ],
   "source": [
    "# Read dataframe #1\n",
    "df_1.info()"
   ]
  },
  {
   "cell_type": "code",
   "execution_count": 4,
   "metadata": {},
   "outputs": [
    {
     "data": {
      "text/html": [
       "<div>\n",
       "<style scoped>\n",
       "    .dataframe tbody tr th:only-of-type {\n",
       "        vertical-align: middle;\n",
       "    }\n",
       "\n",
       "    .dataframe tbody tr th {\n",
       "        vertical-align: top;\n",
       "    }\n",
       "\n",
       "    .dataframe thead th {\n",
       "        text-align: right;\n",
       "    }\n",
       "</style>\n",
       "<table border=\"1\" class=\"dataframe\">\n",
       "  <thead>\n",
       "    <tr style=\"text-align: right;\">\n",
       "      <th></th>\n",
       "      <th>company_name</th>\n",
       "      <th>trips_amount</th>\n",
       "    </tr>\n",
       "  </thead>\n",
       "  <tbody>\n",
       "    <tr>\n",
       "      <th>0</th>\n",
       "      <td>Flash Cab</td>\n",
       "      <td>19558</td>\n",
       "    </tr>\n",
       "    <tr>\n",
       "      <th>1</th>\n",
       "      <td>Taxi Affiliation Services</td>\n",
       "      <td>11422</td>\n",
       "    </tr>\n",
       "    <tr>\n",
       "      <th>2</th>\n",
       "      <td>Medallion Leasing</td>\n",
       "      <td>10367</td>\n",
       "    </tr>\n",
       "    <tr>\n",
       "      <th>3</th>\n",
       "      <td>Yellow Cab</td>\n",
       "      <td>9888</td>\n",
       "    </tr>\n",
       "    <tr>\n",
       "      <th>4</th>\n",
       "      <td>Taxi Affiliation Service Yellow</td>\n",
       "      <td>9299</td>\n",
       "    </tr>\n",
       "    <tr>\n",
       "      <th>5</th>\n",
       "      <td>Chicago Carriage Cab Corp</td>\n",
       "      <td>9181</td>\n",
       "    </tr>\n",
       "    <tr>\n",
       "      <th>6</th>\n",
       "      <td>City Service</td>\n",
       "      <td>8448</td>\n",
       "    </tr>\n",
       "    <tr>\n",
       "      <th>7</th>\n",
       "      <td>Sun Taxi</td>\n",
       "      <td>7701</td>\n",
       "    </tr>\n",
       "    <tr>\n",
       "      <th>8</th>\n",
       "      <td>Star North Management LLC</td>\n",
       "      <td>7455</td>\n",
       "    </tr>\n",
       "    <tr>\n",
       "      <th>9</th>\n",
       "      <td>Blue Ribbon Taxi Association Inc.</td>\n",
       "      <td>5953</td>\n",
       "    </tr>\n",
       "  </tbody>\n",
       "</table>\n",
       "</div>"
      ],
      "text/plain": [
       "                        company_name  trips_amount\n",
       "0                          Flash Cab         19558\n",
       "1          Taxi Affiliation Services         11422\n",
       "2                  Medallion Leasing         10367\n",
       "3                         Yellow Cab          9888\n",
       "4    Taxi Affiliation Service Yellow          9299\n",
       "5          Chicago Carriage Cab Corp          9181\n",
       "6                       City Service          8448\n",
       "7                           Sun Taxi          7701\n",
       "8          Star North Management LLC          7455\n",
       "9  Blue Ribbon Taxi Association Inc.          5953"
      ]
     },
     "execution_count": 4,
     "metadata": {},
     "output_type": "execute_result"
    }
   ],
   "source": [
    "df_1.head(10)"
   ]
  },
  {
   "cell_type": "code",
   "execution_count": 5,
   "metadata": {},
   "outputs": [
    {
     "data": {
      "text/html": [
       "<div>\n",
       "<style scoped>\n",
       "    .dataframe tbody tr th:only-of-type {\n",
       "        vertical-align: middle;\n",
       "    }\n",
       "\n",
       "    .dataframe tbody tr th {\n",
       "        vertical-align: top;\n",
       "    }\n",
       "\n",
       "    .dataframe thead th {\n",
       "        text-align: right;\n",
       "    }\n",
       "</style>\n",
       "<table border=\"1\" class=\"dataframe\">\n",
       "  <thead>\n",
       "    <tr style=\"text-align: right;\">\n",
       "      <th></th>\n",
       "      <th>trips_amount</th>\n",
       "    </tr>\n",
       "  </thead>\n",
       "  <tbody>\n",
       "    <tr>\n",
       "      <th>count</th>\n",
       "      <td>64.000000</td>\n",
       "    </tr>\n",
       "    <tr>\n",
       "      <th>mean</th>\n",
       "      <td>2145.484375</td>\n",
       "    </tr>\n",
       "    <tr>\n",
       "      <th>std</th>\n",
       "      <td>3812.310186</td>\n",
       "    </tr>\n",
       "    <tr>\n",
       "      <th>min</th>\n",
       "      <td>2.000000</td>\n",
       "    </tr>\n",
       "    <tr>\n",
       "      <th>25%</th>\n",
       "      <td>20.750000</td>\n",
       "    </tr>\n",
       "    <tr>\n",
       "      <th>50%</th>\n",
       "      <td>178.500000</td>\n",
       "    </tr>\n",
       "    <tr>\n",
       "      <th>75%</th>\n",
       "      <td>2106.500000</td>\n",
       "    </tr>\n",
       "    <tr>\n",
       "      <th>max</th>\n",
       "      <td>19558.000000</td>\n",
       "    </tr>\n",
       "  </tbody>\n",
       "</table>\n",
       "</div>"
      ],
      "text/plain": [
       "       trips_amount\n",
       "count     64.000000\n",
       "mean    2145.484375\n",
       "std     3812.310186\n",
       "min        2.000000\n",
       "25%       20.750000\n",
       "50%      178.500000\n",
       "75%     2106.500000\n",
       "max    19558.000000"
      ]
     },
     "execution_count": 5,
     "metadata": {},
     "output_type": "execute_result"
    }
   ],
   "source": [
    "df_1.describe()"
   ]
  },
  {
   "cell_type": "code",
   "execution_count": 6,
   "metadata": {},
   "outputs": [
    {
     "name": "stdout",
     "output_type": "stream",
     "text": [
      "<class 'pandas.core.frame.DataFrame'>\n",
      "RangeIndex: 94 entries, 0 to 93\n",
      "Data columns (total 2 columns):\n",
      " #   Column                 Non-Null Count  Dtype  \n",
      "---  ------                 --------------  -----  \n",
      " 0   dropoff_location_name  94 non-null     object \n",
      " 1   average_trips          94 non-null     float64\n",
      "dtypes: float64(1), object(1)\n",
      "memory usage: 1.6+ KB\n"
     ]
    }
   ],
   "source": [
    "# Read dataframe #2\n",
    "df_2.info()"
   ]
  },
  {
   "cell_type": "code",
   "execution_count": 7,
   "metadata": {},
   "outputs": [
    {
     "data": {
      "text/html": [
       "<div>\n",
       "<style scoped>\n",
       "    .dataframe tbody tr th:only-of-type {\n",
       "        vertical-align: middle;\n",
       "    }\n",
       "\n",
       "    .dataframe tbody tr th {\n",
       "        vertical-align: top;\n",
       "    }\n",
       "\n",
       "    .dataframe thead th {\n",
       "        text-align: right;\n",
       "    }\n",
       "</style>\n",
       "<table border=\"1\" class=\"dataframe\">\n",
       "  <thead>\n",
       "    <tr style=\"text-align: right;\">\n",
       "      <th></th>\n",
       "      <th>dropoff_location_name</th>\n",
       "      <th>average_trips</th>\n",
       "    </tr>\n",
       "  </thead>\n",
       "  <tbody>\n",
       "    <tr>\n",
       "      <th>0</th>\n",
       "      <td>Loop</td>\n",
       "      <td>10727.466667</td>\n",
       "    </tr>\n",
       "    <tr>\n",
       "      <th>1</th>\n",
       "      <td>River North</td>\n",
       "      <td>9523.666667</td>\n",
       "    </tr>\n",
       "    <tr>\n",
       "      <th>2</th>\n",
       "      <td>Streeterville</td>\n",
       "      <td>6664.666667</td>\n",
       "    </tr>\n",
       "    <tr>\n",
       "      <th>3</th>\n",
       "      <td>West Loop</td>\n",
       "      <td>5163.666667</td>\n",
       "    </tr>\n",
       "    <tr>\n",
       "      <th>4</th>\n",
       "      <td>O'Hare</td>\n",
       "      <td>2546.900000</td>\n",
       "    </tr>\n",
       "    <tr>\n",
       "      <th>5</th>\n",
       "      <td>Lake View</td>\n",
       "      <td>2420.966667</td>\n",
       "    </tr>\n",
       "    <tr>\n",
       "      <th>6</th>\n",
       "      <td>Grant Park</td>\n",
       "      <td>2068.533333</td>\n",
       "    </tr>\n",
       "    <tr>\n",
       "      <th>7</th>\n",
       "      <td>Museum Campus</td>\n",
       "      <td>1510.000000</td>\n",
       "    </tr>\n",
       "    <tr>\n",
       "      <th>8</th>\n",
       "      <td>Gold Coast</td>\n",
       "      <td>1364.233333</td>\n",
       "    </tr>\n",
       "    <tr>\n",
       "      <th>9</th>\n",
       "      <td>Sheffield &amp; DePaul</td>\n",
       "      <td>1259.766667</td>\n",
       "    </tr>\n",
       "  </tbody>\n",
       "</table>\n",
       "</div>"
      ],
      "text/plain": [
       "  dropoff_location_name  average_trips\n",
       "0                  Loop   10727.466667\n",
       "1           River North    9523.666667\n",
       "2         Streeterville    6664.666667\n",
       "3             West Loop    5163.666667\n",
       "4                O'Hare    2546.900000\n",
       "5             Lake View    2420.966667\n",
       "6            Grant Park    2068.533333\n",
       "7         Museum Campus    1510.000000\n",
       "8            Gold Coast    1364.233333\n",
       "9    Sheffield & DePaul    1259.766667"
      ]
     },
     "execution_count": 7,
     "metadata": {},
     "output_type": "execute_result"
    }
   ],
   "source": [
    "df_2.head(10)"
   ]
  },
  {
   "cell_type": "markdown",
   "metadata": {},
   "source": [
    "<b> Data Description For DataFrame 2<b>"
   ]
  },
  {
   "cell_type": "markdown",
   "metadata": {},
   "source": [
    "-  Chicago neighborhoods where rides ended\n",
    "-  The average number of rides that ended in each neighborhood in November 2017"
   ]
  },
  {
   "cell_type": "code",
   "execution_count": 8,
   "metadata": {},
   "outputs": [
    {
     "data": {
      "text/html": [
       "<div>\n",
       "<style scoped>\n",
       "    .dataframe tbody tr th:only-of-type {\n",
       "        vertical-align: middle;\n",
       "    }\n",
       "\n",
       "    .dataframe tbody tr th {\n",
       "        vertical-align: top;\n",
       "    }\n",
       "\n",
       "    .dataframe thead th {\n",
       "        text-align: right;\n",
       "    }\n",
       "</style>\n",
       "<table border=\"1\" class=\"dataframe\">\n",
       "  <thead>\n",
       "    <tr style=\"text-align: right;\">\n",
       "      <th></th>\n",
       "      <th>average_trips</th>\n",
       "    </tr>\n",
       "  </thead>\n",
       "  <tbody>\n",
       "    <tr>\n",
       "      <th>count</th>\n",
       "      <td>94.000000</td>\n",
       "    </tr>\n",
       "    <tr>\n",
       "      <th>mean</th>\n",
       "      <td>599.953728</td>\n",
       "    </tr>\n",
       "    <tr>\n",
       "      <th>std</th>\n",
       "      <td>1714.591098</td>\n",
       "    </tr>\n",
       "    <tr>\n",
       "      <th>min</th>\n",
       "      <td>1.800000</td>\n",
       "    </tr>\n",
       "    <tr>\n",
       "      <th>25%</th>\n",
       "      <td>14.266667</td>\n",
       "    </tr>\n",
       "    <tr>\n",
       "      <th>50%</th>\n",
       "      <td>52.016667</td>\n",
       "    </tr>\n",
       "    <tr>\n",
       "      <th>75%</th>\n",
       "      <td>298.858333</td>\n",
       "    </tr>\n",
       "    <tr>\n",
       "      <th>max</th>\n",
       "      <td>10727.466667</td>\n",
       "    </tr>\n",
       "  </tbody>\n",
       "</table>\n",
       "</div>"
      ],
      "text/plain": [
       "       average_trips\n",
       "count      94.000000\n",
       "mean      599.953728\n",
       "std      1714.591098\n",
       "min         1.800000\n",
       "25%        14.266667\n",
       "50%        52.016667\n",
       "75%       298.858333\n",
       "max     10727.466667"
      ]
     },
     "execution_count": 8,
     "metadata": {},
     "output_type": "execute_result"
    }
   ],
   "source": [
    "df_2.describe()"
   ]
  },
  {
   "cell_type": "code",
   "execution_count": 9,
   "metadata": {},
   "outputs": [
    {
     "name": "stdout",
     "output_type": "stream",
     "text": [
      "<class 'pandas.core.frame.DataFrame'>\n",
      "RangeIndex: 94 entries, 0 to 93\n",
      "Data columns (total 2 columns):\n",
      " #   Column                 Non-Null Count  Dtype  \n",
      "---  ------                 --------------  -----  \n",
      " 0   dropoff_location_name  94 non-null     object \n",
      " 1   average_trips          94 non-null     float64\n",
      "dtypes: float64(1), object(1)\n",
      "memory usage: 1.6+ KB\n",
      "<bound method DataFrame.info of    dropoff_location_name  average_trips\n",
      "0                   Loop        10727.0\n",
      "1            River North         9524.0\n",
      "2          Streeterville         6665.0\n",
      "3              West Loop         5164.0\n",
      "4                 O'Hare         2547.0\n",
      "..                   ...            ...\n",
      "89       Mount Greenwood            3.0\n",
      "90             Hegewisch            3.0\n",
      "91              Burnside            2.0\n",
      "92             East Side            2.0\n",
      "93             Riverdale            2.0\n",
      "\n",
      "[94 rows x 2 columns]>\n"
     ]
    }
   ],
   "source": [
    "# Rounding average_trips in df_2 to the nearest whole number\n",
    "df_2 = df_2.round(0)\n",
    "df_2.info()\n",
    "print(df_2.info)"
   ]
  },
  {
   "cell_type": "code",
   "execution_count": 10,
   "metadata": {},
   "outputs": [
    {
     "data": {
      "text/plain": [
       "company_name    0\n",
       "trips_amount    0\n",
       "dtype: int64"
      ]
     },
     "execution_count": 10,
     "metadata": {},
     "output_type": "execute_result"
    }
   ],
   "source": [
    "# Checking for missing values\n",
    "df_1.isnull().sum()"
   ]
  },
  {
   "cell_type": "code",
   "execution_count": 11,
   "metadata": {},
   "outputs": [
    {
     "data": {
      "text/plain": [
       "dropoff_location_name    0\n",
       "average_trips            0\n",
       "dtype: int64"
      ]
     },
     "execution_count": 11,
     "metadata": {},
     "output_type": "execute_result"
    }
   ],
   "source": [
    "df_2.isnull().sum()"
   ]
  },
  {
   "cell_type": "code",
   "execution_count": 12,
   "metadata": {},
   "outputs": [
    {
     "data": {
      "text/plain": [
       "0"
      ]
     },
     "execution_count": 12,
     "metadata": {},
     "output_type": "execute_result"
    }
   ],
   "source": [
    "# Checking for duplicates rows\n",
    "df_1.duplicated().sum()"
   ]
  },
  {
   "cell_type": "code",
   "execution_count": 13,
   "metadata": {},
   "outputs": [
    {
     "data": {
      "text/plain": [
       "0"
      ]
     },
     "execution_count": 13,
     "metadata": {},
     "output_type": "execute_result"
    }
   ],
   "source": [
    "df_2.duplicated().sum()"
   ]
  },
  {
   "cell_type": "code",
   "execution_count": 14,
   "metadata": {},
   "outputs": [
    {
     "data": {
      "text/html": [
       "<div>\n",
       "<style scoped>\n",
       "    .dataframe tbody tr th:only-of-type {\n",
       "        vertical-align: middle;\n",
       "    }\n",
       "\n",
       "    .dataframe tbody tr th {\n",
       "        vertical-align: top;\n",
       "    }\n",
       "\n",
       "    .dataframe thead th {\n",
       "        text-align: right;\n",
       "    }\n",
       "</style>\n",
       "<table border=\"1\" class=\"dataframe\">\n",
       "  <thead>\n",
       "    <tr style=\"text-align: right;\">\n",
       "      <th></th>\n",
       "      <th>dropoff_location_name</th>\n",
       "      <th>average_trips</th>\n",
       "    </tr>\n",
       "  </thead>\n",
       "  <tbody>\n",
       "    <tr>\n",
       "      <th>0</th>\n",
       "      <td>Loop</td>\n",
       "      <td>10727.0</td>\n",
       "    </tr>\n",
       "    <tr>\n",
       "      <th>1</th>\n",
       "      <td>River North</td>\n",
       "      <td>9524.0</td>\n",
       "    </tr>\n",
       "    <tr>\n",
       "      <th>2</th>\n",
       "      <td>Streeterville</td>\n",
       "      <td>6665.0</td>\n",
       "    </tr>\n",
       "    <tr>\n",
       "      <th>3</th>\n",
       "      <td>West Loop</td>\n",
       "      <td>5164.0</td>\n",
       "    </tr>\n",
       "    <tr>\n",
       "      <th>4</th>\n",
       "      <td>O'Hare</td>\n",
       "      <td>2547.0</td>\n",
       "    </tr>\n",
       "    <tr>\n",
       "      <th>5</th>\n",
       "      <td>Lake View</td>\n",
       "      <td>2421.0</td>\n",
       "    </tr>\n",
       "    <tr>\n",
       "      <th>6</th>\n",
       "      <td>Grant Park</td>\n",
       "      <td>2069.0</td>\n",
       "    </tr>\n",
       "    <tr>\n",
       "      <th>7</th>\n",
       "      <td>Museum Campus</td>\n",
       "      <td>1510.0</td>\n",
       "    </tr>\n",
       "    <tr>\n",
       "      <th>8</th>\n",
       "      <td>Gold Coast</td>\n",
       "      <td>1364.0</td>\n",
       "    </tr>\n",
       "    <tr>\n",
       "      <th>9</th>\n",
       "      <td>Sheffield &amp; DePaul</td>\n",
       "      <td>1260.0</td>\n",
       "    </tr>\n",
       "  </tbody>\n",
       "</table>\n",
       "</div>"
      ],
      "text/plain": [
       "  dropoff_location_name  average_trips\n",
       "0                  Loop        10727.0\n",
       "1           River North         9524.0\n",
       "2         Streeterville         6665.0\n",
       "3             West Loop         5164.0\n",
       "4                O'Hare         2547.0\n",
       "5             Lake View         2421.0\n",
       "6            Grant Park         2069.0\n",
       "7         Museum Campus         1510.0\n",
       "8            Gold Coast         1364.0\n",
       "9    Sheffield & DePaul         1260.0"
      ]
     },
     "execution_count": 14,
     "metadata": {},
     "output_type": "execute_result"
    }
   ],
   "source": [
    "# Identifying the top 10 neighborhoods by number of drop-offs\n",
    "top_10 = df_2.sort_values(by=['average_trips'], ascending = False).head(10)\n",
    "top_10.head(10)"
   ]
  },
  {
   "cell_type": "markdown",
   "metadata": {},
   "source": [
    "<b>Top 10 Neighbothoods by Number of Drop-offs<b>"
   ]
  },
  {
   "cell_type": "markdown",
   "metadata": {},
   "source": [
    "1. Loop\n",
    "2. River North\n",
    "3. Streeterville\n",
    "4. West Loop\n",
    "5. O'Hare\n",
    "6. Lake View\n",
    "7. Grant Park\n",
    "8. Museum Campus\n",
    "9. Gold Coast\n",
    "10. Sheffield & Paul"
   ]
  },
  {
   "cell_type": "code",
   "execution_count": 15,
   "metadata": {},
   "outputs": [
    {
     "data": {
      "text/html": [
       "<div>\n",
       "<style scoped>\n",
       "    .dataframe tbody tr th:only-of-type {\n",
       "        vertical-align: middle;\n",
       "    }\n",
       "\n",
       "    .dataframe tbody tr th {\n",
       "        vertical-align: top;\n",
       "    }\n",
       "\n",
       "    .dataframe thead th {\n",
       "        text-align: right;\n",
       "    }\n",
       "</style>\n",
       "<table border=\"1\" class=\"dataframe\">\n",
       "  <thead>\n",
       "    <tr style=\"text-align: right;\">\n",
       "      <th></th>\n",
       "      <th>company_name</th>\n",
       "      <th>trips_amount</th>\n",
       "    </tr>\n",
       "  </thead>\n",
       "  <tbody>\n",
       "    <tr>\n",
       "      <th>0</th>\n",
       "      <td>Flash Cab</td>\n",
       "      <td>19558</td>\n",
       "    </tr>\n",
       "    <tr>\n",
       "      <th>1</th>\n",
       "      <td>Taxi Affiliation Services</td>\n",
       "      <td>11422</td>\n",
       "    </tr>\n",
       "    <tr>\n",
       "      <th>2</th>\n",
       "      <td>Medallion Leasing</td>\n",
       "      <td>10367</td>\n",
       "    </tr>\n",
       "    <tr>\n",
       "      <th>3</th>\n",
       "      <td>Yellow Cab</td>\n",
       "      <td>9888</td>\n",
       "    </tr>\n",
       "    <tr>\n",
       "      <th>4</th>\n",
       "      <td>Taxi Affiliation Service Yellow</td>\n",
       "      <td>9299</td>\n",
       "    </tr>\n",
       "    <tr>\n",
       "      <th>5</th>\n",
       "      <td>Chicago Carriage Cab Corp</td>\n",
       "      <td>9181</td>\n",
       "    </tr>\n",
       "    <tr>\n",
       "      <th>6</th>\n",
       "      <td>City Service</td>\n",
       "      <td>8448</td>\n",
       "    </tr>\n",
       "    <tr>\n",
       "      <th>7</th>\n",
       "      <td>Sun Taxi</td>\n",
       "      <td>7701</td>\n",
       "    </tr>\n",
       "    <tr>\n",
       "      <th>8</th>\n",
       "      <td>Star North Management LLC</td>\n",
       "      <td>7455</td>\n",
       "    </tr>\n",
       "    <tr>\n",
       "      <th>9</th>\n",
       "      <td>Blue Ribbon Taxi Association Inc.</td>\n",
       "      <td>5953</td>\n",
       "    </tr>\n",
       "  </tbody>\n",
       "</table>\n",
       "</div>"
      ],
      "text/plain": [
       "                        company_name  trips_amount\n",
       "0                          Flash Cab         19558\n",
       "1          Taxi Affiliation Services         11422\n",
       "2                  Medallion Leasing         10367\n",
       "3                         Yellow Cab          9888\n",
       "4    Taxi Affiliation Service Yellow          9299\n",
       "5          Chicago Carriage Cab Corp          9181\n",
       "6                       City Service          8448\n",
       "7                           Sun Taxi          7701\n",
       "8          Star North Management LLC          7455\n",
       "9  Blue Ribbon Taxi Association Inc.          5953"
      ]
     },
     "execution_count": 15,
     "metadata": {},
     "output_type": "execute_result"
    }
   ],
   "source": [
    "# Sorting company_names by trips amount\n",
    "top_rides = df_1.sort_values(by=['trips_amount'], ascending = False).head(10)\n",
    "top_rides.head(10)"
   ]
  },
  {
   "cell_type": "code",
   "execution_count": 16,
   "metadata": {},
   "outputs": [
    {
     "data": {
      "image/png": "[encoded data removed]",
      "text/plain": [
       "<Figure size 1200x800 with 1 Axes>"
      ]
     },
     "metadata": {},
     "output_type": "display_data"
    }
   ],
   "source": [
    "# Graphing the Top 10 Cab Companies by Number of Rides\n",
    "sns.set(rc={'figure.figsize':(12,8)})\n",
    "sns.barplot(data=top_rides, x='company_name', y='trips_amount').set(title='Top 10 Number of Trips by Company', xlabel='Company Name', ylabel='Amount of Trips')\n",
    "\n",
    "plt.xticks(rotation=45) # Rotate x-axis labels\n",
    "\n",
    "plt.show()"
   ]
  },
  {
   "cell_type": "markdown",
   "metadata": {},
   "source": [
    "<b>Conclusion 1<b>"
   ]
  },
  {
   "cell_type": "markdown",
   "metadata": {},
   "source": [
    "As we can see from the graph above, the Flash Cab cab company has almost double the amount of trips as the next highest company from November 15-16, 2017. The next highest, Taxi Affiliation Services, is 2nd overall and begins a steady decline in order from 2nd to 10th overall. Relatively, the 2nd ranked cab company by number of trips is about double that of the 10th, coming in at 1142 to 5953, respectively."
   ]
  },
  {
   "cell_type": "code",
   "execution_count": 17,
   "metadata": {},
   "outputs": [
    {
     "data": {
      "image/png": "[encoded data removed]",
      "text/plain": [
       "<Figure size 1200x800 with 1 Axes>"
      ]
     },
     "metadata": {},
     "output_type": "display_data"
    }
   ],
   "source": [
    "# Graphing the Top 10 Neighborhoods by Number of Drop-offs\n",
    "sns.barplot(data=top_10, x='dropoff_location_name', y='average_trips').set(title='Top 10 Neighborhoods by Number of Drop-offs', xlabel='Neighborhood', ylabel='Number of Drop-offs')\n",
    "plt.show()"
   ]
  },
  {
   "cell_type": "markdown",
   "metadata": {},
   "source": [
    "<b>Conclusion 2<b>"
   ]
  },
  {
   "cell_type": "markdown",
   "metadata": {},
   "source": [
    "The top 2 neighborhoods by drop-offs, Loop & River North, are hovering close to 10,000 average trips during November of 2017. There is a sharp decline after that, with No. 3 Streeterville at 6665 and No. 4 West Loop at 5164. The bottom 6 neighborhoods are all less than half of West Loop by number of total drop-offs in the month of November. It is a top heavy graph in terms of neighborhood by drop off."
   ]
  },
  {
   "cell_type": "markdown",
   "metadata": {},
   "source": [
    "<b>5. Teesting Hypothesis<b>"
   ]
  },
  {
   "cell_type": "code",
   "execution_count": 18,
   "metadata": {},
   "outputs": [],
   "source": [
    "# Load the Dataset\n",
    "df_3 = pd.read_csv('/datasets/project_sql_result_07.csv')"
   ]
  },
  {
   "cell_type": "code",
   "execution_count": 19,
   "metadata": {},
   "outputs": [
    {
     "name": "stdout",
     "output_type": "stream",
     "text": [
      "<class 'pandas.core.frame.DataFrame'>\n",
      "RangeIndex: 1068 entries, 0 to 1067\n",
      "Data columns (total 3 columns):\n",
      " #   Column              Non-Null Count  Dtype  \n",
      "---  ------              --------------  -----  \n",
      " 0   start_ts            1068 non-null   object \n",
      " 1   weather_conditions  1068 non-null   object \n",
      " 2   duration_seconds    1068 non-null   float64\n",
      "dtypes: float64(1), object(2)\n",
      "memory usage: 25.2+ KB\n"
     ]
    }
   ],
   "source": [
    "# Read the DataFrame\n",
    "df_3.info()"
   ]
  },
  {
   "cell_type": "code",
   "execution_count": 20,
   "metadata": {},
   "outputs": [
    {
     "data": {
      "text/html": [
       "<div>\n",
       "<style scoped>\n",
       "    .dataframe tbody tr th:only-of-type {\n",
       "        vertical-align: middle;\n",
       "    }\n",
       "\n",
       "    .dataframe tbody tr th {\n",
       "        vertical-align: top;\n",
       "    }\n",
       "\n",
       "    .dataframe thead th {\n",
       "        text-align: right;\n",
       "    }\n",
       "</style>\n",
       "<table border=\"1\" class=\"dataframe\">\n",
       "  <thead>\n",
       "    <tr style=\"text-align: right;\">\n",
       "      <th></th>\n",
       "      <th>duration_seconds</th>\n",
       "    </tr>\n",
       "  </thead>\n",
       "  <tbody>\n",
       "    <tr>\n",
       "      <th>count</th>\n",
       "      <td>1068.000000</td>\n",
       "    </tr>\n",
       "    <tr>\n",
       "      <th>mean</th>\n",
       "      <td>2071.731273</td>\n",
       "    </tr>\n",
       "    <tr>\n",
       "      <th>std</th>\n",
       "      <td>769.461125</td>\n",
       "    </tr>\n",
       "    <tr>\n",
       "      <th>min</th>\n",
       "      <td>0.000000</td>\n",
       "    </tr>\n",
       "    <tr>\n",
       "      <th>25%</th>\n",
       "      <td>1438.250000</td>\n",
       "    </tr>\n",
       "    <tr>\n",
       "      <th>50%</th>\n",
       "      <td>1980.000000</td>\n",
       "    </tr>\n",
       "    <tr>\n",
       "      <th>75%</th>\n",
       "      <td>2580.000000</td>\n",
       "    </tr>\n",
       "    <tr>\n",
       "      <th>max</th>\n",
       "      <td>7440.000000</td>\n",
       "    </tr>\n",
       "  </tbody>\n",
       "</table>\n",
       "</div>"
      ],
      "text/plain": [
       "       duration_seconds\n",
       "count       1068.000000\n",
       "mean        2071.731273\n",
       "std          769.461125\n",
       "min            0.000000\n",
       "25%         1438.250000\n",
       "50%         1980.000000\n",
       "75%         2580.000000\n",
       "max         7440.000000"
      ]
     },
     "execution_count": 20,
     "metadata": {},
     "output_type": "execute_result"
    }
   ],
   "source": [
    "df_3.describe()"
   ]
  },
  {
   "cell_type": "code",
   "execution_count": 21,
   "metadata": {},
   "outputs": [
    {
     "data": {
      "text/html": [
       "<div>\n",
       "<style scoped>\n",
       "    .dataframe tbody tr th:only-of-type {\n",
       "        vertical-align: middle;\n",
       "    }\n",
       "\n",
       "    .dataframe tbody tr th {\n",
       "        vertical-align: top;\n",
       "    }\n",
       "\n",
       "    .dataframe thead th {\n",
       "        text-align: right;\n",
       "    }\n",
       "</style>\n",
       "<table border=\"1\" class=\"dataframe\">\n",
       "  <thead>\n",
       "    <tr style=\"text-align: right;\">\n",
       "      <th></th>\n",
       "      <th>start_ts</th>\n",
       "      <th>weather_conditions</th>\n",
       "      <th>duration_seconds</th>\n",
       "    </tr>\n",
       "  </thead>\n",
       "  <tbody>\n",
       "    <tr>\n",
       "      <th>0</th>\n",
       "      <td>2017-11-25 16:00:00</td>\n",
       "      <td>Good</td>\n",
       "      <td>2410.0</td>\n",
       "    </tr>\n",
       "    <tr>\n",
       "      <th>1</th>\n",
       "      <td>2017-11-25 14:00:00</td>\n",
       "      <td>Good</td>\n",
       "      <td>1920.0</td>\n",
       "    </tr>\n",
       "    <tr>\n",
       "      <th>2</th>\n",
       "      <td>2017-11-25 12:00:00</td>\n",
       "      <td>Good</td>\n",
       "      <td>1543.0</td>\n",
       "    </tr>\n",
       "    <tr>\n",
       "      <th>3</th>\n",
       "      <td>2017-11-04 10:00:00</td>\n",
       "      <td>Good</td>\n",
       "      <td>2512.0</td>\n",
       "    </tr>\n",
       "    <tr>\n",
       "      <th>4</th>\n",
       "      <td>2017-11-11 07:00:00</td>\n",
       "      <td>Good</td>\n",
       "      <td>1440.0</td>\n",
       "    </tr>\n",
       "    <tr>\n",
       "      <th>5</th>\n",
       "      <td>2017-11-11 04:00:00</td>\n",
       "      <td>Good</td>\n",
       "      <td>1320.0</td>\n",
       "    </tr>\n",
       "    <tr>\n",
       "      <th>6</th>\n",
       "      <td>2017-11-04 16:00:00</td>\n",
       "      <td>Bad</td>\n",
       "      <td>2969.0</td>\n",
       "    </tr>\n",
       "    <tr>\n",
       "      <th>7</th>\n",
       "      <td>2017-11-18 11:00:00</td>\n",
       "      <td>Good</td>\n",
       "      <td>2280.0</td>\n",
       "    </tr>\n",
       "    <tr>\n",
       "      <th>8</th>\n",
       "      <td>2017-11-11 14:00:00</td>\n",
       "      <td>Good</td>\n",
       "      <td>2460.0</td>\n",
       "    </tr>\n",
       "    <tr>\n",
       "      <th>9</th>\n",
       "      <td>2017-11-11 12:00:00</td>\n",
       "      <td>Good</td>\n",
       "      <td>2040.0</td>\n",
       "    </tr>\n",
       "  </tbody>\n",
       "</table>\n",
       "</div>"
      ],
      "text/plain": [
       "              start_ts weather_conditions  duration_seconds\n",
       "0  2017-11-25 16:00:00               Good            2410.0\n",
       "1  2017-11-25 14:00:00               Good            1920.0\n",
       "2  2017-11-25 12:00:00               Good            1543.0\n",
       "3  2017-11-04 10:00:00               Good            2512.0\n",
       "4  2017-11-11 07:00:00               Good            1440.0\n",
       "5  2017-11-11 04:00:00               Good            1320.0\n",
       "6  2017-11-04 16:00:00                Bad            2969.0\n",
       "7  2017-11-18 11:00:00               Good            2280.0\n",
       "8  2017-11-11 14:00:00               Good            2460.0\n",
       "9  2017-11-11 12:00:00               Good            2040.0"
      ]
     },
     "execution_count": 21,
     "metadata": {},
     "output_type": "execute_result"
    }
   ],
   "source": [
    "df_3.head(10)"
   ]
  },
  {
   "cell_type": "markdown",
   "metadata": {},
   "source": [
    "<b>Data Description For DataFrame 3<b>"
   ]
  },
  {
   "cell_type": "markdown",
   "metadata": {},
   "source": [
    "1. Pickup date and time\n",
    "2. Weather conditions at the moment the ride started\n",
    "3. Ride duration in seconds"
   ]
  },
  {
   "cell_type": "code",
   "execution_count": 22,
   "metadata": {},
   "outputs": [
    {
     "data": {
      "text/plain": [
       "start_ts              0\n",
       "weather_conditions    0\n",
       "duration_seconds      0\n",
       "dtype: int64"
      ]
     },
     "execution_count": 22,
     "metadata": {},
     "output_type": "execute_result"
    }
   ],
   "source": [
    "# Checking for missing values\n",
    "df_3.isnull().sum()"
   ]
  },
  {
   "cell_type": "code",
   "execution_count": 23,
   "metadata": {},
   "outputs": [
    {
     "data": {
      "text/plain": [
       "197"
      ]
     },
     "execution_count": 23,
     "metadata": {},
     "output_type": "execute_result"
    }
   ],
   "source": [
    "# Checking for duplicates rows\n",
    "df_3.duplicated().sum()"
   ]
  },
  {
   "cell_type": "code",
   "execution_count": 24,
   "metadata": {},
   "outputs": [
    {
     "name": "stdout",
     "output_type": "stream",
     "text": [
      "<class 'pandas.core.frame.DataFrame'>\n",
      "RangeIndex: 1068 entries, 0 to 1067\n",
      "Data columns (total 3 columns):\n",
      " #   Column              Non-Null Count  Dtype         \n",
      "---  ------              --------------  -----         \n",
      " 0   start_ts            1068 non-null   datetime64[ns]\n",
      " 1   weather_conditions  1068 non-null   object        \n",
      " 2   duration_seconds    1068 non-null   float64       \n",
      "dtypes: datetime64[ns](1), float64(1), object(1)\n",
      "memory usage: 25.2+ KB\n"
     ]
    }
   ],
   "source": [
    "# Convert star_ts (pickup date and time) from to datatime data type\n",
    "df_3['start_ts'] = pd.to_datetime(df_3['start_ts'])\n",
    "df_3.info()"
   ]
  },
  {
   "cell_type": "code",
   "execution_count": 25,
   "metadata": {},
   "outputs": [
    {
     "data": {
      "text/plain": [
       "weather_conditions\n",
       "Bad     180\n",
       "Good    888\n",
       "Name: duration_seconds, dtype: int64"
      ]
     },
     "execution_count": 25,
     "metadata": {},
     "output_type": "execute_result"
    }
   ],
   "source": [
    "# Counting the total number of rainy days\n",
    "df_3_grouped = df_3.groupby('weather_conditions')['duration_seconds'].count()\n",
    "df_3_grouped.head(10)"
   ]
  },
  {
   "cell_type": "code",
   "execution_count": 26,
   "metadata": {},
   "outputs": [
    {
     "name": "stdout",
     "output_type": "stream",
     "text": [
      "Number of outliers removed: 6\n"
     ]
    }
   ],
   "source": [
    "# Calculate Q1 (25th percentile) and Q3 (75th percentile)\n",
    "Q1 = df_3[\"duration_seconds\"].quantile(0.25)\n",
    "Q3 = df_3[\"duration_seconds\"].quantile(0.75)\n",
    "\n",
    "# Compute the Interquartile Range (IQR)\n",
    "IQR = Q3 - Q1\n",
    "\n",
    "# Define lower and upper bounds for outliers\n",
    "lower_bound = Q1 - 1.5 * IQR\n",
    "upper_bound = Q3 + 1.5 * IQR\n",
    "\n",
    "# Filter out the outliers\n",
    "df_cleaned = df_3[(df_3[\"duration_seconds\"] >= lower_bound) & (df_3[\"duration_seconds\"] <= upper_bound)]\n",
    "\n",
    "# Display the number of removed outliers\n",
    "outliers_removed = df_3.shape[0] - df_cleaned.shape[0]\n",
    "print(f\"Number of outliers removed: {outliers_removed}\")\n"
   ]
  },
  {
   "cell_type": "code",
   "execution_count": 27,
   "metadata": {},
   "outputs": [
    {
     "data": {
      "image/png": "[encoded data removed]",
      "text/plain": [
       "<Figure size 800x500 with 1 Axes>"
      ]
     },
     "metadata": {},
     "output_type": "display_data"
    }
   ],
   "source": [
    "# Create a boxplot for duration_seconds\n",
    "plt.figure(figsize=(8, 5))\n",
    "sns.boxplot(x=df_3[\"duration_seconds\"])\n",
    "\n",
    "# Add labels and title\n",
    "plt.title(\"Boxplot of duration_seconds to Identify Outliers\")\n",
    "plt.xlabel(\"Duration (seconds)\")\n",
    "\n",
    "# Show the plot\n",
    "plt.show()\n"
   ]
  },
  {
   "cell_type": "code",
   "execution_count": 28,
   "metadata": {},
   "outputs": [
    {
     "name": "stdout",
     "output_type": "stream",
     "text": [
      "p-value:  6.517970327099473e-12\n",
      "We reject the null hypothesis\n"
     ]
    }
   ],
   "source": [
    "# Hypothesis Testing - Test the Hypothesis \"The average duration of rides from the Loop to O'Hare International Airport changes on rainy Saturdays\"\n",
    "# Ho: The average duration of rides from the Loop to O'Hare Intl Airport does not change on rainy Saturdays.\n",
    "# H1: Average duration of rides does change on rainy Saturdays.\n",
    "\n",
    "df_3_bad = df_3[df_3['weather_conditions'] == 'Bad']['duration_seconds']\n",
    "df_3_good = df_3[df_3['weather_conditions'] == 'Good']['duration_seconds']\n",
    "\n",
    "alpha = .05\n",
    "\n",
    "results = st.ttest_ind(df_3_bad, df_3_good)\n",
    "\n",
    "print('p-value: ', results.pvalue)\n",
    "\n",
    "if (results.pvalue < alpha):\n",
    "    print(\"We reject the null hypothesis\")\n",
    "else:\n",
    "    print(\"We can't reject the null hypothesis\")"
   ]
  },
  {
   "cell_type": "markdown",
   "metadata": {},
   "source": [
    "<b>Summary of Hypothesis Test<b>"
   ]
  },
  {
   "cell_type": "markdown",
   "metadata": {},
   "source": [
    "With such a low p-value, we reject the null hypothesis that the mean duration of rides doesn't change on rainy saturdays. In fact, the mean duration of rides between these two locations on rainy saturdays is higher."
   ]
  },
  {
   "cell_type": "markdown",
   "metadata": {},
   "source": [
    "<b>Conclusion<b>"
   ]
  },
  {
   "cell_type": "markdown",
   "metadata": {},
   "source": [
    "-  The majority of taxi rides are given by the top 2 companies in Chicago.\n",
    "-  The majority of drop-off locations are all concentrated in the top 4 drop-off locations. This could be explained by the higher population in those areas, given that they are all located in the city downtown.\n",
    "-  During the month of November, weather conditions impact the mean duration of rides on Saturdays.\n",
    "    - Bad weather conditions led to an increased duration of rides. This may be explained by slower traffic during bad weather conditions, as cars drive slower. It may also be explained by more cars being on the road during bad weather conditions, which may cause less people to use walking, biking, and public transit."
   ]
  }
 ],
 "metadata": {
  "ExecuteTimeLog": [
   {
    "duration": 2957,
    "start_time": "2025-03-15T18:20:49.114Z"
   },
   {
    "duration": 745,
    "start_time": "2025-03-15T18:20:52.074Z"
   },
   {
    "duration": 0,
    "start_time": "2025-03-15T18:20:52.823Z"
   },
   {
    "duration": 0,
    "start_time": "2025-03-15T18:20:52.824Z"
   },
   {
    "duration": 0,
    "start_time": "2025-03-15T18:20:52.825Z"
   },
   {
    "duration": 0,
    "start_time": "2025-03-15T18:20:52.827Z"
   },
   {
    "duration": 0,
    "start_time": "2025-03-15T18:20:52.828Z"
   },
   {
    "duration": 0,
    "start_time": "2025-03-15T18:20:52.829Z"
   },
   {
    "duration": 0,
    "start_time": "2025-03-15T18:20:52.830Z"
   },
   {
    "duration": 0,
    "start_time": "2025-03-15T18:20:52.843Z"
   },
   {
    "duration": 0,
    "start_time": "2025-03-15T18:20:52.844Z"
   },
   {
    "duration": 1,
    "start_time": "2025-03-15T18:20:52.845Z"
   },
   {
    "duration": 0,
    "start_time": "2025-03-15T18:20:52.847Z"
   },
   {
    "duration": 0,
    "start_time": "2025-03-15T18:20:52.848Z"
   },
   {
    "duration": 0,
    "start_time": "2025-03-15T18:20:52.849Z"
   },
   {
    "duration": 0,
    "start_time": "2025-03-15T18:20:52.850Z"
   },
   {
    "duration": 1,
    "start_time": "2025-03-15T18:20:52.851Z"
   },
   {
    "duration": 0,
    "start_time": "2025-03-15T18:20:52.853Z"
   },
   {
    "duration": 0,
    "start_time": "2025-03-15T18:20:52.854Z"
   },
   {
    "duration": 0,
    "start_time": "2025-03-15T18:20:52.855Z"
   },
   {
    "duration": 0,
    "start_time": "2025-03-15T18:20:52.857Z"
   },
   {
    "duration": 0,
    "start_time": "2025-03-15T18:20:52.858Z"
   },
   {
    "duration": 0,
    "start_time": "2025-03-15T18:20:52.858Z"
   },
   {
    "duration": 0,
    "start_time": "2025-03-15T18:20:52.859Z"
   },
   {
    "duration": 0,
    "start_time": "2025-03-15T18:20:52.861Z"
   },
   {
    "duration": 0,
    "start_time": "2025-03-15T18:20:52.862Z"
   },
   {
    "duration": 160,
    "start_time": "2025-03-15T18:34:23.329Z"
   },
   {
    "duration": 2730,
    "start_time": "2025-03-15T18:34:31.990Z"
   },
   {
    "duration": 400,
    "start_time": "2025-03-15T18:34:34.722Z"
   },
   {
    "duration": 5,
    "start_time": "2025-03-15T19:17:46.029Z"
   },
   {
    "duration": 119,
    "start_time": "2025-03-15T19:18:10.793Z"
   },
   {
    "duration": 3,
    "start_time": "2025-03-15T19:19:28.544Z"
   },
   {
    "duration": 59,
    "start_time": "2025-03-15T19:19:31.869Z"
   },
   {
    "duration": 3,
    "start_time": "2025-03-15T19:25:12.536Z"
   },
   {
    "duration": 74,
    "start_time": "2025-03-15T19:25:15.269Z"
   },
   {
    "duration": 10,
    "start_time": "2025-03-15T19:26:38.669Z"
   },
   {
    "duration": 2,
    "start_time": "2025-03-15T19:26:41.428Z"
   },
   {
    "duration": 8,
    "start_time": "2025-03-15T19:26:42.296Z"
   },
   {
    "duration": 8,
    "start_time": "2025-03-15T19:27:11.232Z"
   },
   {
    "duration": 2,
    "start_time": "2025-03-15T19:27:29.601Z"
   },
   {
    "duration": 8,
    "start_time": "2025-03-15T19:27:30.070Z"
   },
   {
    "duration": 9,
    "start_time": "2025-03-15T19:27:31.312Z"
   },
   {
    "duration": 11,
    "start_time": "2025-03-15T19:27:31.458Z"
   },
   {
    "duration": 9,
    "start_time": "2025-03-15T19:27:31.629Z"
   },
   {
    "duration": 8,
    "start_time": "2025-03-15T19:27:31.792Z"
   },
   {
    "duration": 7,
    "start_time": "2025-03-15T19:27:31.967Z"
   },
   {
    "duration": 10,
    "start_time": "2025-03-15T19:27:32.452Z"
   },
   {
    "duration": 7,
    "start_time": "2025-03-15T19:27:32.624Z"
   },
   {
    "duration": 6,
    "start_time": "2025-03-15T19:27:32.808Z"
   },
   {
    "duration": 5,
    "start_time": "2025-03-15T19:27:32.989Z"
   },
   {
    "duration": 5,
    "start_time": "2025-03-15T19:27:33.180Z"
   },
   {
    "duration": 5,
    "start_time": "2025-03-15T19:27:33.344Z"
   },
   {
    "duration": 10,
    "start_time": "2025-03-15T19:27:33.536Z"
   },
   {
    "duration": 7,
    "start_time": "2025-03-15T19:27:34.025Z"
   },
   {
    "duration": 159,
    "start_time": "2025-03-15T19:27:34.187Z"
   },
   {
    "duration": 638,
    "start_time": "2025-03-15T19:27:34.709Z"
   },
   {
    "duration": 5,
    "start_time": "2025-03-15T19:27:35.367Z"
   },
   {
    "duration": 9,
    "start_time": "2025-03-15T19:27:35.544Z"
   },
   {
    "duration": 9,
    "start_time": "2025-03-15T19:27:35.720Z"
   },
   {
    "duration": 7,
    "start_time": "2025-03-15T19:27:35.916Z"
   },
   {
    "duration": 6,
    "start_time": "2025-03-15T19:27:36.484Z"
   },
   {
    "duration": 5,
    "start_time": "2025-03-15T19:27:36.655Z"
   },
   {
    "duration": 10,
    "start_time": "2025-03-15T19:27:36.804Z"
   },
   {
    "duration": 6,
    "start_time": "2025-03-15T19:27:36.976Z"
   },
   {
    "duration": 6,
    "start_time": "2025-03-15T19:27:37.148Z"
   },
   {
    "duration": 2620,
    "start_time": "2025-03-15T19:57:47.811Z"
   },
   {
    "duration": 15,
    "start_time": "2025-03-15T19:57:50.433Z"
   },
   {
    "duration": 9,
    "start_time": "2025-03-15T19:57:50.450Z"
   },
   {
    "duration": 9,
    "start_time": "2025-03-15T19:57:50.461Z"
   },
   {
    "duration": 20,
    "start_time": "2025-03-15T19:57:50.472Z"
   },
   {
    "duration": 8,
    "start_time": "2025-03-15T19:57:50.493Z"
   },
   {
    "duration": 7,
    "start_time": "2025-03-15T19:57:50.502Z"
   },
   {
    "duration": 8,
    "start_time": "2025-03-15T19:57:50.510Z"
   },
   {
    "duration": 7,
    "start_time": "2025-03-15T19:57:50.520Z"
   },
   {
    "duration": 4,
    "start_time": "2025-03-15T19:57:50.530Z"
   },
   {
    "duration": 5,
    "start_time": "2025-03-15T19:57:50.536Z"
   },
   {
    "duration": 45,
    "start_time": "2025-03-15T19:57:50.542Z"
   },
   {
    "duration": 6,
    "start_time": "2025-03-15T19:57:50.589Z"
   },
   {
    "duration": 11,
    "start_time": "2025-03-15T19:57:50.597Z"
   },
   {
    "duration": 7,
    "start_time": "2025-03-15T19:57:50.610Z"
   },
   {
    "duration": 179,
    "start_time": "2025-03-15T19:57:50.619Z"
   },
   {
    "duration": 667,
    "start_time": "2025-03-15T19:57:50.800Z"
   },
   {
    "duration": 9,
    "start_time": "2025-03-15T19:57:51.469Z"
   },
   {
    "duration": 8,
    "start_time": "2025-03-15T19:57:51.479Z"
   },
   {
    "duration": 9,
    "start_time": "2025-03-15T19:57:51.489Z"
   },
   {
    "duration": 7,
    "start_time": "2025-03-15T19:57:51.499Z"
   },
   {
    "duration": 5,
    "start_time": "2025-03-15T19:57:51.507Z"
   },
   {
    "duration": 5,
    "start_time": "2025-03-15T19:57:51.513Z"
   },
   {
    "duration": 9,
    "start_time": "2025-03-15T19:57:51.519Z"
   },
   {
    "duration": 6,
    "start_time": "2025-03-15T19:57:51.529Z"
   },
   {
    "duration": 6,
    "start_time": "2025-03-15T19:57:51.537Z"
   },
   {
    "duration": 2550,
    "start_time": "2025-03-16T03:56:22.011Z"
   },
   {
    "duration": 18,
    "start_time": "2025-03-16T03:56:24.563Z"
   },
   {
    "duration": 8,
    "start_time": "2025-03-16T03:56:24.583Z"
   },
   {
    "duration": 8,
    "start_time": "2025-03-16T03:56:24.593Z"
   },
   {
    "duration": 8,
    "start_time": "2025-03-16T03:56:24.603Z"
   },
   {
    "duration": 8,
    "start_time": "2025-03-16T03:56:24.624Z"
   },
   {
    "duration": 6,
    "start_time": "2025-03-16T03:56:24.633Z"
   },
   {
    "duration": 8,
    "start_time": "2025-03-16T03:56:24.641Z"
   },
   {
    "duration": 6,
    "start_time": "2025-03-16T03:56:24.650Z"
   },
   {
    "duration": 5,
    "start_time": "2025-03-16T03:56:24.658Z"
   },
   {
    "duration": 4,
    "start_time": "2025-03-16T03:56:24.664Z"
   },
   {
    "duration": 4,
    "start_time": "2025-03-16T03:56:24.670Z"
   },
   {
    "duration": 4,
    "start_time": "2025-03-16T03:56:24.676Z"
   },
   {
    "duration": 7,
    "start_time": "2025-03-16T03:56:24.724Z"
   },
   {
    "duration": 7,
    "start_time": "2025-03-16T03:56:24.732Z"
   },
   {
    "duration": 189,
    "start_time": "2025-03-16T03:56:24.740Z"
   },
   {
    "duration": 658,
    "start_time": "2025-03-16T03:56:24.931Z"
   },
   {
    "duration": 11,
    "start_time": "2025-03-16T03:56:25.591Z"
   },
   {
    "duration": 8,
    "start_time": "2025-03-16T03:56:25.604Z"
   },
   {
    "duration": 10,
    "start_time": "2025-03-16T03:56:25.613Z"
   },
   {
    "duration": 7,
    "start_time": "2025-03-16T03:56:25.624Z"
   },
   {
    "duration": 5,
    "start_time": "2025-03-16T03:56:25.633Z"
   },
   {
    "duration": 5,
    "start_time": "2025-03-16T03:56:25.639Z"
   },
   {
    "duration": 8,
    "start_time": "2025-03-16T03:56:25.647Z"
   },
   {
    "duration": 5,
    "start_time": "2025-03-16T03:56:25.657Z"
   },
   {
    "duration": 6,
    "start_time": "2025-03-16T03:56:25.665Z"
   },
   {
    "duration": 8,
    "start_time": "2025-03-16T03:57:57.891Z"
   },
   {
    "duration": 5,
    "start_time": "2025-03-16T03:58:13.884Z"
   },
   {
    "duration": 8,
    "start_time": "2025-03-16T03:58:17.195Z"
   },
   {
    "duration": 689,
    "start_time": "2025-03-16T04:03:34.250Z"
   },
   {
    "duration": 675,
    "start_time": "2025-03-16T04:03:43.674Z"
   },
   {
    "duration": 854,
    "start_time": "2025-03-16T04:03:49.264Z"
   },
   {
    "duration": 9,
    "start_time": "2025-03-16T04:03:50.120Z"
   },
   {
    "duration": 8,
    "start_time": "2025-03-16T04:03:50.130Z"
   },
   {
    "duration": 7,
    "start_time": "2025-03-16T04:03:50.141Z"
   },
   {
    "duration": 8,
    "start_time": "2025-03-16T04:03:50.150Z"
   },
   {
    "duration": 7,
    "start_time": "2025-03-16T04:03:50.160Z"
   },
   {
    "duration": 5,
    "start_time": "2025-03-16T04:03:50.169Z"
   },
   {
    "duration": 9,
    "start_time": "2025-03-16T04:03:50.176Z"
   },
   {
    "duration": 45,
    "start_time": "2025-03-16T04:03:50.186Z"
   },
   {
    "duration": 5,
    "start_time": "2025-03-16T04:03:50.235Z"
   },
   {
    "duration": 4,
    "start_time": "2025-03-16T04:03:50.242Z"
   },
   {
    "duration": 4,
    "start_time": "2025-03-16T04:03:50.248Z"
   },
   {
    "duration": 4,
    "start_time": "2025-03-16T04:03:50.254Z"
   },
   {
    "duration": 7,
    "start_time": "2025-03-16T04:03:50.259Z"
   },
   {
    "duration": 6,
    "start_time": "2025-03-16T04:03:50.268Z"
   },
   {
    "duration": 230,
    "start_time": "2025-03-16T04:03:50.275Z"
   },
   {
    "duration": 5,
    "start_time": "2025-03-16T04:03:50.506Z"
   },
   {
    "duration": 0,
    "start_time": "2025-03-16T04:03:50.513Z"
   },
   {
    "duration": 0,
    "start_time": "2025-03-16T04:03:50.514Z"
   },
   {
    "duration": 0,
    "start_time": "2025-03-16T04:03:50.516Z"
   },
   {
    "duration": 0,
    "start_time": "2025-03-16T04:03:50.517Z"
   },
   {
    "duration": 0,
    "start_time": "2025-03-16T04:03:50.519Z"
   },
   {
    "duration": 0,
    "start_time": "2025-03-16T04:03:50.520Z"
   },
   {
    "duration": 0,
    "start_time": "2025-03-16T04:03:50.522Z"
   },
   {
    "duration": 0,
    "start_time": "2025-03-16T04:03:50.524Z"
   },
   {
    "duration": 0,
    "start_time": "2025-03-16T04:03:50.526Z"
   },
   {
    "duration": 0,
    "start_time": "2025-03-16T04:03:50.527Z"
   },
   {
    "duration": 822,
    "start_time": "2025-03-16T04:04:15.195Z"
   },
   {
    "duration": 11,
    "start_time": "2025-03-16T04:04:16.019Z"
   },
   {
    "duration": 8,
    "start_time": "2025-03-16T04:04:16.031Z"
   },
   {
    "duration": 7,
    "start_time": "2025-03-16T04:04:16.041Z"
   },
   {
    "duration": 9,
    "start_time": "2025-03-16T04:04:16.050Z"
   },
   {
    "duration": 7,
    "start_time": "2025-03-16T04:04:16.061Z"
   },
   {
    "duration": 7,
    "start_time": "2025-03-16T04:04:16.070Z"
   },
   {
    "duration": 8,
    "start_time": "2025-03-16T04:04:16.078Z"
   },
   {
    "duration": 6,
    "start_time": "2025-03-16T04:04:16.124Z"
   },
   {
    "duration": 5,
    "start_time": "2025-03-16T04:04:16.132Z"
   },
   {
    "duration": 5,
    "start_time": "2025-03-16T04:04:16.139Z"
   },
   {
    "duration": 4,
    "start_time": "2025-03-16T04:04:16.146Z"
   },
   {
    "duration": 5,
    "start_time": "2025-03-16T04:04:16.152Z"
   },
   {
    "duration": 8,
    "start_time": "2025-03-16T04:04:16.159Z"
   },
   {
    "duration": 7,
    "start_time": "2025-03-16T04:04:16.168Z"
   },
   {
    "duration": 765,
    "start_time": "2025-03-16T04:04:16.176Z"
   },
   {
    "duration": 4,
    "start_time": "2025-03-16T04:04:16.942Z"
   },
   {
    "duration": 0,
    "start_time": "2025-03-16T04:04:16.948Z"
   },
   {
    "duration": 0,
    "start_time": "2025-03-16T04:04:16.949Z"
   },
   {
    "duration": 1,
    "start_time": "2025-03-16T04:04:16.950Z"
   },
   {
    "duration": 0,
    "start_time": "2025-03-16T04:04:16.952Z"
   },
   {
    "duration": 0,
    "start_time": "2025-03-16T04:04:16.954Z"
   },
   {
    "duration": 0,
    "start_time": "2025-03-16T04:04:16.955Z"
   },
   {
    "duration": 1,
    "start_time": "2025-03-16T04:04:16.956Z"
   },
   {
    "duration": 0,
    "start_time": "2025-03-16T04:04:16.958Z"
   },
   {
    "duration": 0,
    "start_time": "2025-03-16T04:04:16.960Z"
   },
   {
    "duration": 0,
    "start_time": "2025-03-16T04:04:16.962Z"
   },
   {
    "duration": 531,
    "start_time": "2025-03-16T04:04:57.667Z"
   },
   {
    "duration": 323,
    "start_time": "2025-03-16T04:05:04.144Z"
   },
   {
    "duration": 215,
    "start_time": "2025-03-16T04:05:11.856Z"
   },
   {
    "duration": 257,
    "start_time": "2025-03-16T04:05:17.653Z"
   },
   {
    "duration": 318,
    "start_time": "2025-03-16T04:05:24.754Z"
   },
   {
    "duration": 266,
    "start_time": "2025-03-16T04:05:28.024Z"
   },
   {
    "duration": 236,
    "start_time": "2025-03-16T04:05:36.388Z"
   },
   {
    "duration": 248,
    "start_time": "2025-03-16T04:05:47.331Z"
   },
   {
    "duration": 243,
    "start_time": "2025-03-16T04:05:51.828Z"
   },
   {
    "duration": 212,
    "start_time": "2025-03-16T04:06:00.176Z"
   },
   {
    "duration": 192,
    "start_time": "2025-03-16T04:06:25.161Z"
   },
   {
    "duration": 632,
    "start_time": "2025-03-16T04:06:29.569Z"
   },
   {
    "duration": 944,
    "start_time": "2025-03-16T04:07:12.246Z"
   },
   {
    "duration": 8,
    "start_time": "2025-03-16T04:07:13.192Z"
   },
   {
    "duration": 8,
    "start_time": "2025-03-16T04:07:13.202Z"
   },
   {
    "duration": 10,
    "start_time": "2025-03-16T04:07:13.223Z"
   },
   {
    "duration": 10,
    "start_time": "2025-03-16T04:07:13.236Z"
   },
   {
    "duration": 9,
    "start_time": "2025-03-16T04:07:13.247Z"
   },
   {
    "duration": 6,
    "start_time": "2025-03-16T04:07:13.258Z"
   },
   {
    "duration": 9,
    "start_time": "2025-03-16T04:07:13.267Z"
   },
   {
    "duration": 7,
    "start_time": "2025-03-16T04:07:13.278Z"
   },
   {
    "duration": 42,
    "start_time": "2025-03-16T04:07:13.286Z"
   },
   {
    "duration": 6,
    "start_time": "2025-03-16T04:07:13.330Z"
   },
   {
    "duration": 5,
    "start_time": "2025-03-16T04:07:13.338Z"
   },
   {
    "duration": 5,
    "start_time": "2025-03-16T04:07:13.344Z"
   },
   {
    "duration": 8,
    "start_time": "2025-03-16T04:07:13.352Z"
   },
   {
    "duration": 6,
    "start_time": "2025-03-16T04:07:13.362Z"
   },
   {
    "duration": 199,
    "start_time": "2025-03-16T04:07:13.370Z"
   },
   {
    "duration": 876,
    "start_time": "2025-03-16T04:07:13.572Z"
   },
   {
    "duration": 6,
    "start_time": "2025-03-16T04:07:14.450Z"
   },
   {
    "duration": 7,
    "start_time": "2025-03-16T04:07:14.458Z"
   },
   {
    "duration": 11,
    "start_time": "2025-03-16T04:07:14.467Z"
   },
   {
    "duration": 7,
    "start_time": "2025-03-16T04:07:14.479Z"
   },
   {
    "duration": 6,
    "start_time": "2025-03-16T04:07:14.488Z"
   },
   {
    "duration": 5,
    "start_time": "2025-03-16T04:07:14.495Z"
   },
   {
    "duration": 31,
    "start_time": "2025-03-16T04:07:14.502Z"
   },
   {
    "duration": 6,
    "start_time": "2025-03-16T04:07:14.535Z"
   },
   {
    "duration": 94,
    "start_time": "2025-03-16T04:07:14.543Z"
   },
   {
    "duration": 157,
    "start_time": "2025-03-16T05:18:49.632Z"
   },
   {
    "duration": 2564,
    "start_time": "2025-03-16T05:19:10.950Z"
   },
   {
    "duration": 15,
    "start_time": "2025-03-16T05:19:13.517Z"
   },
   {
    "duration": 11,
    "start_time": "2025-03-16T05:19:13.534Z"
   },
   {
    "duration": 8,
    "start_time": "2025-03-16T05:19:13.547Z"
   },
   {
    "duration": 9,
    "start_time": "2025-03-16T05:19:13.557Z"
   },
   {
    "duration": 7,
    "start_time": "2025-03-16T05:19:13.568Z"
   },
   {
    "duration": 6,
    "start_time": "2025-03-16T05:19:13.576Z"
   },
   {
    "duration": 41,
    "start_time": "2025-03-16T05:19:13.584Z"
   },
   {
    "duration": 8,
    "start_time": "2025-03-16T05:19:13.626Z"
   },
   {
    "duration": 5,
    "start_time": "2025-03-16T05:19:13.635Z"
   },
   {
    "duration": 5,
    "start_time": "2025-03-16T05:19:13.641Z"
   },
   {
    "duration": 5,
    "start_time": "2025-03-16T05:19:13.647Z"
   },
   {
    "duration": 5,
    "start_time": "2025-03-16T05:19:13.653Z"
   },
   {
    "duration": 7,
    "start_time": "2025-03-16T05:19:13.660Z"
   },
   {
    "duration": 7,
    "start_time": "2025-03-16T05:19:13.669Z"
   },
   {
    "duration": 300,
    "start_time": "2025-03-16T05:19:13.677Z"
   },
   {
    "duration": 178,
    "start_time": "2025-03-16T05:19:13.979Z"
   },
   {
    "duration": 8,
    "start_time": "2025-03-16T05:19:14.158Z"
   },
   {
    "duration": 8,
    "start_time": "2025-03-16T05:19:14.167Z"
   },
   {
    "duration": 9,
    "start_time": "2025-03-16T05:19:14.176Z"
   },
   {
    "duration": 7,
    "start_time": "2025-03-16T05:19:14.186Z"
   },
   {
    "duration": 5,
    "start_time": "2025-03-16T05:19:14.195Z"
   },
   {
    "duration": 5,
    "start_time": "2025-03-16T05:19:14.224Z"
   },
   {
    "duration": 9,
    "start_time": "2025-03-16T05:19:14.231Z"
   },
   {
    "duration": 5,
    "start_time": "2025-03-16T05:19:14.241Z"
   },
   {
    "duration": 77,
    "start_time": "2025-03-16T05:19:14.248Z"
   },
   {
    "duration": 12,
    "start_time": "2025-03-16T05:21:52.535Z"
   },
   {
    "duration": 80,
    "start_time": "2025-03-16T05:31:19.466Z"
   },
   {
    "duration": 17,
    "start_time": "2025-03-16T05:32:35.725Z"
   },
   {
    "duration": 3,
    "start_time": "2025-03-16T06:09:10.889Z"
   },
   {
    "duration": 12,
    "start_time": "2025-03-16T06:09:10.894Z"
   },
   {
    "duration": 8,
    "start_time": "2025-03-16T06:09:10.907Z"
   },
   {
    "duration": 6,
    "start_time": "2025-03-16T06:09:10.916Z"
   },
   {
    "duration": 7,
    "start_time": "2025-03-16T06:09:10.925Z"
   },
   {
    "duration": 8,
    "start_time": "2025-03-16T06:09:10.934Z"
   },
   {
    "duration": 5,
    "start_time": "2025-03-16T06:09:10.943Z"
   },
   {
    "duration": 8,
    "start_time": "2025-03-16T06:09:10.951Z"
   },
   {
    "duration": 11,
    "start_time": "2025-03-16T06:09:10.960Z"
   },
   {
    "duration": 5,
    "start_time": "2025-03-16T06:09:10.972Z"
   },
   {
    "duration": 4,
    "start_time": "2025-03-16T06:09:10.979Z"
   },
   {
    "duration": 41,
    "start_time": "2025-03-16T06:09:10.985Z"
   },
   {
    "duration": 4,
    "start_time": "2025-03-16T06:09:11.028Z"
   },
   {
    "duration": 6,
    "start_time": "2025-03-16T06:09:11.035Z"
   },
   {
    "duration": 6,
    "start_time": "2025-03-16T06:09:11.043Z"
   },
   {
    "duration": 268,
    "start_time": "2025-03-16T06:09:11.050Z"
   },
   {
    "duration": 194,
    "start_time": "2025-03-16T06:09:11.320Z"
   },
   {
    "duration": 8,
    "start_time": "2025-03-16T06:09:11.516Z"
   },
   {
    "duration": 8,
    "start_time": "2025-03-16T06:09:11.525Z"
   },
   {
    "duration": 8,
    "start_time": "2025-03-16T06:09:11.535Z"
   },
   {
    "duration": 6,
    "start_time": "2025-03-16T06:09:11.545Z"
   },
   {
    "duration": 5,
    "start_time": "2025-03-16T06:09:11.553Z"
   },
   {
    "duration": 4,
    "start_time": "2025-03-16T06:09:11.559Z"
   },
   {
    "duration": 9,
    "start_time": "2025-03-16T06:09:11.565Z"
   },
   {
    "duration": 5,
    "start_time": "2025-03-16T06:09:11.576Z"
   },
   {
    "duration": 16,
    "start_time": "2025-03-16T06:09:11.624Z"
   },
   {
    "duration": 0,
    "start_time": "2025-03-16T06:09:11.641Z"
   },
   {
    "duration": 18,
    "start_time": "2025-03-16T06:14:15.497Z"
   },
   {
    "duration": 17,
    "start_time": "2025-03-16T06:14:40.250Z"
   },
   {
    "duration": 25,
    "start_time": "2025-03-16T06:14:46.140Z"
   },
   {
    "duration": 18,
    "start_time": "2025-03-16T06:14:52.717Z"
   },
   {
    "duration": 7,
    "start_time": "2025-03-16T06:14:59.506Z"
   },
   {
    "duration": 20,
    "start_time": "2025-03-16T06:19:29.369Z"
   },
   {
    "duration": 116,
    "start_time": "2025-03-16T06:19:35.433Z"
   },
   {
    "duration": 2551,
    "start_time": "2025-03-16T13:33:56.633Z"
   },
   {
    "duration": 18,
    "start_time": "2025-03-16T13:33:59.186Z"
   },
   {
    "duration": 9,
    "start_time": "2025-03-16T13:33:59.205Z"
   },
   {
    "duration": 8,
    "start_time": "2025-03-16T13:33:59.216Z"
   },
   {
    "duration": 17,
    "start_time": "2025-03-16T13:33:59.227Z"
   },
   {
    "duration": 8,
    "start_time": "2025-03-16T13:33:59.247Z"
   },
   {
    "duration": 8,
    "start_time": "2025-03-16T13:33:59.257Z"
   },
   {
    "duration": 8,
    "start_time": "2025-03-16T13:33:59.266Z"
   },
   {
    "duration": 11,
    "start_time": "2025-03-16T13:33:59.275Z"
   },
   {
    "duration": 4,
    "start_time": "2025-03-16T13:33:59.287Z"
   },
   {
    "duration": 5,
    "start_time": "2025-03-16T13:33:59.292Z"
   },
   {
    "duration": 8,
    "start_time": "2025-03-16T13:33:59.299Z"
   },
   {
    "duration": 5,
    "start_time": "2025-03-16T13:33:59.344Z"
   },
   {
    "duration": 7,
    "start_time": "2025-03-16T13:33:59.352Z"
   },
   {
    "duration": 6,
    "start_time": "2025-03-16T13:33:59.360Z"
   },
   {
    "duration": 277,
    "start_time": "2025-03-16T13:33:59.367Z"
   },
   {
    "duration": 184,
    "start_time": "2025-03-16T13:33:59.645Z"
   },
   {
    "duration": 14,
    "start_time": "2025-03-16T13:33:59.831Z"
   },
   {
    "duration": 8,
    "start_time": "2025-03-16T13:33:59.846Z"
   },
   {
    "duration": 10,
    "start_time": "2025-03-16T13:33:59.856Z"
   },
   {
    "duration": 7,
    "start_time": "2025-03-16T13:33:59.867Z"
   },
   {
    "duration": 6,
    "start_time": "2025-03-16T13:33:59.876Z"
   },
   {
    "duration": 5,
    "start_time": "2025-03-16T13:33:59.883Z"
   },
   {
    "duration": 10,
    "start_time": "2025-03-16T13:33:59.891Z"
   },
   {
    "duration": 43,
    "start_time": "2025-03-16T13:33:59.903Z"
   },
   {
    "duration": 6,
    "start_time": "2025-03-16T13:33:59.948Z"
   },
   {
    "duration": 129,
    "start_time": "2025-03-16T13:33:59.956Z"
   },
   {
    "duration": 6,
    "start_time": "2025-03-16T13:34:00.088Z"
   }
  ],
  "kernelspec": {
   "display_name": "Python 3 (ipykernel)",
   "language": "python",
   "name": "python3"
  },
  "language_info": {
   "codemirror_mode": {
    "name": "ipython",
    "version": 3
   },
   "file_extension": ".py",
   "mimetype": "text/x-python",
   "name": "python",
   "nbconvert_exporter": "python",
   "pygments_lexer": "ipython3",
   "version": "3.9.19"
  },
  "toc": {
   "base_numbering": 1,
   "nav_menu": {},
   "number_sections": true,
   "sideBar": true,
   "skip_h1_title": true,
   "title_cell": "Table of Contents",
   "title_sidebar": "Contents",
   "toc_cell": false,
   "toc_position": {},
   "toc_section_display": true,
   "toc_window_display": false
  }
 },
 "nbformat": 4,
 "nbformat_minor": 2
}
